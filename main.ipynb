{
  "cells": [
    {
      "cell_type": "code",
      "execution_count": 33,
      "id": "f2b05556",
      "metadata": {
        "colab": {
          "base_uri": "https://localhost:8080/"
        },
        "id": "f2b05556",
        "outputId": "44d3459a-a2c8-4e84-894e-cc75d92762cf"
      },
      "outputs": [
        {
          "data": {
            "text/plain": [
              "device(type='cuda')"
            ]
          },
          "execution_count": 33,
          "metadata": {},
          "output_type": "execute_result"
        }
      ],
      "source": [
        "import torch\n",
        "import torch.nn as nn\n",
        "import torch.nn.functional as F\n",
        "\n",
        "device = torch.device(\"cuda\" if torch.cuda.is_available() else \"cpu\")\n",
        "device"
      ]
    },
    {
      "cell_type": "code",
      "execution_count": 34,
      "id": "53cb3ec5",
      "metadata": {
        "id": "53cb3ec5"
      },
      "outputs": [],
      "source": [
        "class ResidualBlock(nn.Module):\n",
        "  def __init__(self, in_channels, out_channels, stride=1, downsample=None):\n",
        "    super(ResidualBlock, self).__init__()\n",
        "\n",
        "    self.conv1 = nn.Conv2d(in_channels, out_channels, 3, stride, 1)\n",
        "    self.bn1 = nn.BatchNorm2d(out_channels)\n",
        "    self.conv2 = nn.Conv2d(out_channels, out_channels, 3, 1, 1)\n",
        "    self.bn2 = nn.BatchNorm2d(out_channels)\n",
        "    self.downsample = downsample\n",
        "\n",
        "  def forward(self, x):\n",
        "    identity = x\n",
        "\n",
        "    if self.downsample:\n",
        "      identity = self.downsample(x)\n",
        "\n",
        "    out = F.relu(self.bn1(self.conv1(x)))\n",
        "    out = self.bn2(self.conv2(out))\n",
        "\n",
        "    out += identity\n",
        "    out = F.relu(out)\n",
        "\n",
        "    return out"
      ]
    },
    {
      "cell_type": "code",
      "execution_count": 35,
      "id": "a2bb4f2f",
      "metadata": {
        "id": "a2bb4f2f"
      },
      "outputs": [],
      "source": [
        "class ResNet(nn.Module):\n",
        "  def __init__(self, block, layers, num_classes=1000):\n",
        "    super(ResNet, self).__init__()\n",
        "\n",
        "    self.in_channels = 64\n",
        "\n",
        "    self.maxpool = nn.MaxPool2d(3, 2, 1)\n",
        "    self.avgpool = nn.AdaptiveAvgPool2d((1, 1))\n",
        "    self.bn = nn.BatchNorm2d(64)\n",
        "    self.conv = nn.Conv2d(3, 64, 7, 2, 3)\n",
        "\n",
        "    self.layer1 = self._make_layer(block, 64, layers[0])\n",
        "    self.layer2 = self._make_layer(block, 128, layers[1], 2)\n",
        "    self.layer3 = self._make_layer(block, 256, layers[2], 2)\n",
        "    self.layer4 = self._make_layer(block, 512, layers[3], 2)\n",
        "\n",
        "    self.fc = nn.Linear(512, num_classes)\n",
        "\n",
        "  def _make_layer(self, block, out_channels, blocks, stride=1):\n",
        "    downsample = None\n",
        "\n",
        "    if stride != 1 or self.in_channels != out_channels:\n",
        "      downsample = nn.Sequential(\n",
        "        nn.Conv2d(self.in_channels, out_channels, 1, stride),\n",
        "        nn.BatchNorm2d(out_channels)\n",
        "      )\n",
        "\n",
        "    layers = [block(self.in_channels, out_channels, stride, downsample)]\n",
        "    self.in_channels = out_channels\n",
        "\n",
        "    for _ in range(1, blocks):\n",
        "      layers.append(block(out_channels, out_channels))\n",
        "\n",
        "    return nn.Sequential(*layers)\n",
        "\n",
        "  def forward(self, x):\n",
        "    c1 = self.maxpool(F.relu(self.bn(self.conv(x))))\n",
        "\n",
        "    l1 = self.layer1(c1)\n",
        "    l2 = self.layer2(l1)\n",
        "    l3 = self.layer3(l2)\n",
        "    l4 = self.layer4(l3)\n",
        "\n",
        "    l4 = self.avgpool(l4)\n",
        "    a = l4.view(l4.size(0), -1) # Flatten\n",
        "    z = self.fc(a)\n",
        "\n",
        "    return z"
      ]
    },
    {
      "cell_type": "code",
      "execution_count": 36,
      "id": "9681bd0e",
      "metadata": {
        "id": "9681bd0e"
      },
      "outputs": [],
      "source": [
        "import torch.optim as optim\n",
        "\n",
        "model = ResNet(ResidualBlock, [2, 2, 2, 2], num_classes=10)\n",
        "model.to(device)\n",
        "loss_fn = nn.CrossEntropyLoss()\n",
        "optimizer = optim.SGD(model.parameters(), 0.1, 0.9, weight_decay=0.0001)"
      ]
    },
    {
      "cell_type": "code",
      "execution_count": 37,
      "id": "6fb2af84",
      "metadata": {
        "colab": {
          "base_uri": "https://localhost:8080/"
        },
        "id": "6fb2af84",
        "outputId": "30294737-9d70-4359-a423-89a07042d6c3"
      },
      "outputs": [],
      "source": [
        "import torchvision\n",
        "import torchvision.transforms as transforms\n",
        "\n",
        "transform = transforms.Compose([\n",
        "    transforms.Resize(224),\n",
        "    transforms.RandomHorizontalFlip(),\n",
        "    transforms.ToTensor(),\n",
        "    transforms.Normalize((0.5, 0.5, 0.5),\n",
        "                         (0.5, 0.5, 0.5))\n",
        "])\n",
        "\n",
        "trainset = torchvision.datasets.CIFAR10(root='./data', train=True, download=True, transform=transform)\n",
        "trainloader = torch.utils.data.DataLoader(trainset, batch_size=128, shuffle=True)\n",
        "\n",
        "testset = torchvision.datasets.CIFAR10(root='./data', train=False, download=True, transform=transform)\n",
        "testloader = torch.utils.data.DataLoader(testset, batch_size=128, shuffle=False)"
      ]
    },
    {
      "cell_type": "code",
      "execution_count": 38,
      "id": "366ce793",
      "metadata": {
        "id": "366ce793"
      },
      "outputs": [],
      "source": [
        "def train(dataloader, model, loss_fn, optimizer):\n",
        "    size = len(dataloader.dataset)\n",
        "\n",
        "    model.train()\n",
        "\n",
        "    for batch, (X, y) in enumerate(dataloader):\n",
        "        X, y = X.to(device), y.to(device)\n",
        "\n",
        "        y_pred = model(X)\n",
        "        loss = loss_fn(y_pred, y)\n",
        "\n",
        "        loss.backward()\n",
        "        optimizer.step()\n",
        "        optimizer.zero_grad()\n",
        "\n",
        "        if batch % 100 == 0:\n",
        "            loss, current = loss.item(), batch * 64 + len(X)\n",
        "            print(f\"loss: {loss:>7f}  [{current:>5d}/{size:>5d}]\")"
      ]
    },
    {
      "cell_type": "code",
      "execution_count": 39,
      "id": "70ce13c0",
      "metadata": {
        "id": "70ce13c0"
      },
      "outputs": [],
      "source": [
        "def test(dataloader, model, loss_fn):\n",
        "    size = len(dataloader.dataset)\n",
        "    num_batches = len(dataloader)\n",
        "    test_loss, correct = 0, 0\n",
        "\n",
        "    model.eval()\n",
        "\n",
        "    with torch.no_grad():\n",
        "        for X, y in dataloader:\n",
        "            X, y = X.to(device), y.to(device)\n",
        "\n",
        "            y_pred = model(X)\n",
        "            test_loss += loss_fn(y_pred, y).item()\n",
        "            correct += (y_pred.argmax(1) == y).type(torch.float).sum().item()\n",
        "\n",
        "    test_loss /= num_batches\n",
        "    correct /= size\n",
        "    print(f\"Test Error: \\n Accuracy: {(100*correct):>0.1f}%, Avg loss: {test_loss:>8f} \\n\")"
      ]
    },
    {
      "cell_type": "code",
      "execution_count": 40,
      "id": "208a725f",
      "metadata": {
        "colab": {
          "background_save": true,
          "base_uri": "https://localhost:8080/"
        },
        "id": "208a725f",
        "outputId": "c17cabc1-519d-4b4e-f384-559e9513bf2b"
      },
      "outputs": [
        {
          "name": "stdout",
          "output_type": "stream",
          "text": [
            "Epoch 1\n",
            "-------------------------------\n",
            "loss: 2.334243  [  128/50000]\n",
            "loss: 2.076459  [ 6528/50000]\n",
            "loss: 1.880416  [12928/50000]\n",
            "loss: 1.610763  [19328/50000]\n",
            "Test Error: \n",
            " Accuracy: 45.5%, Avg loss: 1.499903 \n",
            "\n",
            "Epoch 2\n",
            "-------------------------------\n",
            "loss: 1.403290  [  128/50000]\n",
            "loss: 1.436733  [ 6528/50000]\n",
            "loss: 1.325108  [12928/50000]\n",
            "loss: 1.135547  [19328/50000]\n",
            "Test Error: \n",
            " Accuracy: 55.2%, Avg loss: 1.213256 \n",
            "\n",
            "Epoch 3\n",
            "-------------------------------\n",
            "loss: 1.054446  [  128/50000]\n",
            "loss: 1.124259  [ 6528/50000]\n",
            "loss: 1.131295  [12928/50000]\n",
            "loss: 1.105598  [19328/50000]\n",
            "Test Error: \n",
            " Accuracy: 64.0%, Avg loss: 1.005865 \n",
            "\n",
            "Epoch 4\n",
            "-------------------------------\n",
            "loss: 0.990032  [  128/50000]\n",
            "loss: 0.840571  [ 6528/50000]\n",
            "loss: 0.910266  [12928/50000]\n",
            "loss: 0.784782  [19328/50000]\n",
            "Test Error: \n",
            " Accuracy: 73.6%, Avg loss: 0.757268 \n",
            "\n",
            "Epoch 5\n",
            "-------------------------------\n",
            "loss: 0.683259  [  128/50000]\n",
            "loss: 0.587918  [ 6528/50000]\n",
            "loss: 0.640490  [12928/50000]\n",
            "loss: 0.700672  [19328/50000]\n",
            "Test Error: \n",
            " Accuracy: 76.7%, Avg loss: 0.686262 \n",
            "\n",
            "Epoch 6\n",
            "-------------------------------\n",
            "loss: 0.571036  [  128/50000]\n",
            "loss: 0.494936  [ 6528/50000]\n",
            "loss: 0.668324  [12928/50000]\n",
            "loss: 0.542194  [19328/50000]\n",
            "Test Error: \n",
            " Accuracy: 79.5%, Avg loss: 0.595594 \n",
            "\n",
            "Epoch 7\n",
            "-------------------------------\n",
            "loss: 0.511029  [  128/50000]\n",
            "loss: 0.437794  [ 6528/50000]\n",
            "loss: 0.428481  [12928/50000]\n",
            "loss: 0.558158  [19328/50000]\n",
            "Test Error: \n",
            " Accuracy: 80.8%, Avg loss: 0.553784 \n",
            "\n",
            "Epoch 8\n",
            "-------------------------------\n",
            "loss: 0.431703  [  128/50000]\n",
            "loss: 0.392914  [ 6528/50000]\n",
            "loss: 0.231126  [12928/50000]\n",
            "loss: 0.418689  [19328/50000]\n",
            "Test Error: \n",
            " Accuracy: 81.3%, Avg loss: 0.539212 \n",
            "\n",
            "Epoch 9\n",
            "-------------------------------\n",
            "loss: 0.343606  [  128/50000]\n",
            "loss: 0.374142  [ 6528/50000]\n",
            "loss: 0.343387  [12928/50000]\n",
            "loss: 0.169064  [19328/50000]\n",
            "Test Error: \n",
            " Accuracy: 83.4%, Avg loss: 0.498681 \n",
            "\n",
            "Epoch 10\n",
            "-------------------------------\n",
            "loss: 0.254487  [  128/50000]\n",
            "loss: 0.270600  [ 6528/50000]\n",
            "loss: 0.171780  [12928/50000]\n",
            "loss: 0.337235  [19328/50000]\n",
            "Test Error: \n",
            " Accuracy: 84.3%, Avg loss: 0.472572 \n",
            "\n"
          ]
        }
      ],
      "source": [
        "epochs = 10\n",
        "for i in range(epochs):\n",
        "    print(f\"Epoch {i+1}\\n-------------------------------\")\n",
        "    train(trainloader, model, loss_fn, optimizer)\n",
        "    test(testloader, model, loss_fn)"
      ]
    }
  ],
  "metadata": {
    "accelerator": "GPU",
    "colab": {
      "gpuType": "T4",
      "provenance": []
    },
    "kernelspec": {
      "display_name": "Python 3",
      "name": "python3"
    },
    "language_info": {
      "codemirror_mode": {
        "name": "ipython",
        "version": 3
      },
      "file_extension": ".py",
      "mimetype": "text/x-python",
      "name": "python",
      "nbconvert_exporter": "python",
      "pygments_lexer": "ipython3",
      "version": "3.12.10"
    }
  },
  "nbformat": 4,
  "nbformat_minor": 5
}
